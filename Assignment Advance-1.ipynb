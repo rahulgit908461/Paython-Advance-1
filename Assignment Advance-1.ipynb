{
 "cells": [
  {
   "cell_type": "code",
   "execution_count": 1,
   "id": "f6632038-2420-48ef-b393-ad620814df6d",
   "metadata": {},
   "outputs": [],
   "source": [
    "#Q1. Five FUn of Pandas Library with Execution."
   ]
  },
  {
   "cell_type": "code",
   "execution_count": 2,
   "id": "dbeef0fa-2214-430e-b5a7-e331ec5fda78",
   "metadata": {},
   "outputs": [],
   "source": [
    "#Five Fun is \n",
    "# a. read_csv()\n",
    "# b. df.head()\n",
    "# c. df.tail()\n",
    "# d. column ()\n",
    "# e. len(df)"
   ]
  },
  {
   "cell_type": "code",
   "execution_count": 3,
   "id": "cd27c2c0-5be0-4cbe-be43-220ff96cefc2",
   "metadata": {},
   "outputs": [],
   "source": [
    "# Execution of Data Ex."
   ]
  },
  {
   "cell_type": "code",
   "execution_count": 4,
   "id": "af6f4444-62a9-4c8a-a50f-b4953953ec79",
   "metadata": {},
   "outputs": [],
   "source": [
    "data={'animal' : ['alligator' ,'bee' ,'falcon' ,'lion' ,'monkey' 'parrot' ,'shark' ,'whale' 'zebra']}"
   ]
  },
  {
   "cell_type": "code",
   "execution_count": 5,
   "id": "1f37cc2b-7dd5-448d-b3ca-17c529b46356",
   "metadata": {},
   "outputs": [],
   "source": [
    "import pandas as pd "
   ]
  },
  {
   "cell_type": "code",
   "execution_count": 6,
   "id": "74ef85d5-6ae1-48f7-b06a-8cb2a36c5245",
   "metadata": {},
   "outputs": [
    {
     "data": {
      "text/plain": [
       "{'animal': ['alligator',\n",
       "  'bee',\n",
       "  'falcon',\n",
       "  'lion',\n",
       "  'monkeyparrot',\n",
       "  'shark',\n",
       "  'whalezebra']}"
      ]
     },
     "execution_count": 6,
     "metadata": {},
     "output_type": "execute_result"
    }
   ],
   "source": [
    "data"
   ]
  },
  {
   "cell_type": "code",
   "execution_count": 7,
   "id": "b2c2db2b-3c72-4920-9985-ac0c13266e7b",
   "metadata": {},
   "outputs": [],
   "source": [
    "df=pd.DataFrame({'animal' : ['alligator' ,'bee' ,'falcon' ,'lion' ,'monkey' 'parrot' ,'shark' ,'whale' 'zebra']})"
   ]
  },
  {
   "cell_type": "code",
   "execution_count": 8,
   "id": "2864dd69-7dfe-4eee-b1bf-02024252346c",
   "metadata": {},
   "outputs": [
    {
     "data": {
      "text/html": [
       "<div>\n",
       "<style scoped>\n",
       "    .dataframe tbody tr th:only-of-type {\n",
       "        vertical-align: middle;\n",
       "    }\n",
       "\n",
       "    .dataframe tbody tr th {\n",
       "        vertical-align: top;\n",
       "    }\n",
       "\n",
       "    .dataframe thead th {\n",
       "        text-align: right;\n",
       "    }\n",
       "</style>\n",
       "<table border=\"1\" class=\"dataframe\">\n",
       "  <thead>\n",
       "    <tr style=\"text-align: right;\">\n",
       "      <th></th>\n",
       "      <th>animal</th>\n",
       "    </tr>\n",
       "  </thead>\n",
       "  <tbody>\n",
       "    <tr>\n",
       "      <th>0</th>\n",
       "      <td>alligator</td>\n",
       "    </tr>\n",
       "    <tr>\n",
       "      <th>1</th>\n",
       "      <td>bee</td>\n",
       "    </tr>\n",
       "    <tr>\n",
       "      <th>2</th>\n",
       "      <td>falcon</td>\n",
       "    </tr>\n",
       "    <tr>\n",
       "      <th>3</th>\n",
       "      <td>lion</td>\n",
       "    </tr>\n",
       "    <tr>\n",
       "      <th>4</th>\n",
       "      <td>monkeyparrot</td>\n",
       "    </tr>\n",
       "    <tr>\n",
       "      <th>5</th>\n",
       "      <td>shark</td>\n",
       "    </tr>\n",
       "    <tr>\n",
       "      <th>6</th>\n",
       "      <td>whalezebra</td>\n",
       "    </tr>\n",
       "  </tbody>\n",
       "</table>\n",
       "</div>"
      ],
      "text/plain": [
       "         animal\n",
       "0     alligator\n",
       "1           bee\n",
       "2        falcon\n",
       "3          lion\n",
       "4  monkeyparrot\n",
       "5         shark\n",
       "6    whalezebra"
      ]
     },
     "execution_count": 8,
     "metadata": {},
     "output_type": "execute_result"
    }
   ],
   "source": [
    "df"
   ]
  },
  {
   "cell_type": "code",
   "execution_count": 9,
   "id": "fbf9a4ac-9e78-4af7-b0d0-e1ddea662ad6",
   "metadata": {},
   "outputs": [
    {
     "data": {
      "text/html": [
       "<div>\n",
       "<style scoped>\n",
       "    .dataframe tbody tr th:only-of-type {\n",
       "        vertical-align: middle;\n",
       "    }\n",
       "\n",
       "    .dataframe tbody tr th {\n",
       "        vertical-align: top;\n",
       "    }\n",
       "\n",
       "    .dataframe thead th {\n",
       "        text-align: right;\n",
       "    }\n",
       "</style>\n",
       "<table border=\"1\" class=\"dataframe\">\n",
       "  <thead>\n",
       "    <tr style=\"text-align: right;\">\n",
       "      <th></th>\n",
       "      <th>animal</th>\n",
       "    </tr>\n",
       "  </thead>\n",
       "  <tbody>\n",
       "    <tr>\n",
       "      <th>0</th>\n",
       "      <td>alligator</td>\n",
       "    </tr>\n",
       "    <tr>\n",
       "      <th>1</th>\n",
       "      <td>bee</td>\n",
       "    </tr>\n",
       "    <tr>\n",
       "      <th>2</th>\n",
       "      <td>falcon</td>\n",
       "    </tr>\n",
       "    <tr>\n",
       "      <th>3</th>\n",
       "      <td>lion</td>\n",
       "    </tr>\n",
       "    <tr>\n",
       "      <th>4</th>\n",
       "      <td>monkeyparrot</td>\n",
       "    </tr>\n",
       "  </tbody>\n",
       "</table>\n",
       "</div>"
      ],
      "text/plain": [
       "         animal\n",
       "0     alligator\n",
       "1           bee\n",
       "2        falcon\n",
       "3          lion\n",
       "4  monkeyparrot"
      ]
     },
     "execution_count": 9,
     "metadata": {},
     "output_type": "execute_result"
    }
   ],
   "source": [
    "df.head()"
   ]
  },
  {
   "cell_type": "code",
   "execution_count": 10,
   "id": "6307cb20-78bb-4fb2-99c2-5c940213048c",
   "metadata": {},
   "outputs": [
    {
     "data": {
      "text/html": [
       "<div>\n",
       "<style scoped>\n",
       "    .dataframe tbody tr th:only-of-type {\n",
       "        vertical-align: middle;\n",
       "    }\n",
       "\n",
       "    .dataframe tbody tr th {\n",
       "        vertical-align: top;\n",
       "    }\n",
       "\n",
       "    .dataframe thead th {\n",
       "        text-align: right;\n",
       "    }\n",
       "</style>\n",
       "<table border=\"1\" class=\"dataframe\">\n",
       "  <thead>\n",
       "    <tr style=\"text-align: right;\">\n",
       "      <th></th>\n",
       "      <th>animal</th>\n",
       "    </tr>\n",
       "  </thead>\n",
       "  <tbody>\n",
       "    <tr>\n",
       "      <th>2</th>\n",
       "      <td>falcon</td>\n",
       "    </tr>\n",
       "    <tr>\n",
       "      <th>3</th>\n",
       "      <td>lion</td>\n",
       "    </tr>\n",
       "    <tr>\n",
       "      <th>4</th>\n",
       "      <td>monkeyparrot</td>\n",
       "    </tr>\n",
       "    <tr>\n",
       "      <th>5</th>\n",
       "      <td>shark</td>\n",
       "    </tr>\n",
       "    <tr>\n",
       "      <th>6</th>\n",
       "      <td>whalezebra</td>\n",
       "    </tr>\n",
       "  </tbody>\n",
       "</table>\n",
       "</div>"
      ],
      "text/plain": [
       "         animal\n",
       "2        falcon\n",
       "3          lion\n",
       "4  monkeyparrot\n",
       "5         shark\n",
       "6    whalezebra"
      ]
     },
     "execution_count": 10,
     "metadata": {},
     "output_type": "execute_result"
    }
   ],
   "source": [
    "df.tail()"
   ]
  },
  {
   "cell_type": "code",
   "execution_count": 11,
   "id": "1705661b-c88d-49ac-a2da-5e9dabf713f3",
   "metadata": {},
   "outputs": [
    {
     "data": {
      "text/plain": [
       "7"
      ]
     },
     "execution_count": 11,
     "metadata": {},
     "output_type": "execute_result"
    }
   ],
   "source": [
    "len(df)"
   ]
  },
  {
   "cell_type": "code",
   "execution_count": 12,
   "id": "ded7ed48-6dc1-4939-96ed-351d02ba4870",
   "metadata": {},
   "outputs": [],
   "source": [
    "#Q2. Pandas DataFrame df which Columns 'A' , 'B' and 'c'"
   ]
  },
  {
   "cell_type": "code",
   "execution_count": 13,
   "id": "1df3b2a7-2eaa-4ccc-b403-f5e2549d60a0",
   "metadata": {},
   "outputs": [],
   "source": [
    "data={'A': ['Mohan','Sohan' ,'Rohit'] , 'B':['Ram' ,'Shyam','Mohan'] ,'C':['Mohan','Sohan','Rohit']}"
   ]
  },
  {
   "cell_type": "code",
   "execution_count": 14,
   "id": "ffe42b36-32bc-49b0-a574-43d7931364a4",
   "metadata": {},
   "outputs": [
    {
     "data": {
      "text/plain": [
       "{'A': ['Mohan', 'Sohan', 'Rohit'],\n",
       " 'B': ['Ram', 'Shyam', 'Mohan'],\n",
       " 'C': ['Mohan', 'Sohan', 'Rohit']}"
      ]
     },
     "execution_count": 14,
     "metadata": {},
     "output_type": "execute_result"
    }
   ],
   "source": [
    "data"
   ]
  },
  {
   "cell_type": "code",
   "execution_count": 15,
   "id": "fc356ba0-b3fe-4790-9d59-77aaae1fbf37",
   "metadata": {},
   "outputs": [
    {
     "data": {
      "text/html": [
       "<div>\n",
       "<style scoped>\n",
       "    .dataframe tbody tr th:only-of-type {\n",
       "        vertical-align: middle;\n",
       "    }\n",
       "\n",
       "    .dataframe tbody tr th {\n",
       "        vertical-align: top;\n",
       "    }\n",
       "\n",
       "    .dataframe thead th {\n",
       "        text-align: right;\n",
       "    }\n",
       "</style>\n",
       "<table border=\"1\" class=\"dataframe\">\n",
       "  <thead>\n",
       "    <tr style=\"text-align: right;\">\n",
       "      <th></th>\n",
       "      <th>A</th>\n",
       "      <th>B</th>\n",
       "      <th>C</th>\n",
       "    </tr>\n",
       "  </thead>\n",
       "  <tbody>\n",
       "    <tr>\n",
       "      <th>0</th>\n",
       "      <td>Mohan</td>\n",
       "      <td>Ram</td>\n",
       "      <td>Mohan</td>\n",
       "    </tr>\n",
       "    <tr>\n",
       "      <th>1</th>\n",
       "      <td>Sohan</td>\n",
       "      <td>Shyam</td>\n",
       "      <td>Sohan</td>\n",
       "    </tr>\n",
       "    <tr>\n",
       "      <th>2</th>\n",
       "      <td>Rohit</td>\n",
       "      <td>Mohan</td>\n",
       "      <td>Rohit</td>\n",
       "    </tr>\n",
       "  </tbody>\n",
       "</table>\n",
       "</div>"
      ],
      "text/plain": [
       "       A      B      C\n",
       "0  Mohan    Ram  Mohan\n",
       "1  Sohan  Shyam  Sohan\n",
       "2  Rohit  Mohan  Rohit"
      ]
     },
     "execution_count": 15,
     "metadata": {},
     "output_type": "execute_result"
    }
   ],
   "source": [
    "pd.DataFrame({'A': ['Mohan','Sohan' ,'Rohit'] , 'B':['Ram' ,'Shyam','Mohan'] ,'C':['Mohan','Sohan','Rohit']})"
   ]
  },
  {
   "cell_type": "code",
   "execution_count": 16,
   "id": "411e14d2-57d6-4811-a624-968d70ba2e0e",
   "metadata": {},
   "outputs": [],
   "source": [
    "df=pd.DataFrame({'A': ['Mohan','Sohan' ,'Rohit'] , 'B':['Ram' ,'Shyam','Mohan'] ,'C':['Mohan','Sohan','Rohit']})"
   ]
  },
  {
   "cell_type": "code",
   "execution_count": 17,
   "id": "680fffad-a387-4a32-932e-54925b2d702d",
   "metadata": {},
   "outputs": [],
   "source": [
    "new_index=[1,2,3]"
   ]
  },
  {
   "cell_type": "code",
   "execution_count": 18,
   "id": "076942e4-5870-4524-9182-4de05ccc1f63",
   "metadata": {},
   "outputs": [
    {
     "data": {
      "text/html": [
       "<div>\n",
       "<style scoped>\n",
       "    .dataframe tbody tr th:only-of-type {\n",
       "        vertical-align: middle;\n",
       "    }\n",
       "\n",
       "    .dataframe tbody tr th {\n",
       "        vertical-align: top;\n",
       "    }\n",
       "\n",
       "    .dataframe thead th {\n",
       "        text-align: right;\n",
       "    }\n",
       "</style>\n",
       "<table border=\"1\" class=\"dataframe\">\n",
       "  <thead>\n",
       "    <tr style=\"text-align: right;\">\n",
       "      <th></th>\n",
       "      <th>A</th>\n",
       "      <th>B</th>\n",
       "      <th>C</th>\n",
       "    </tr>\n",
       "  </thead>\n",
       "  <tbody>\n",
       "    <tr>\n",
       "      <th>1</th>\n",
       "      <td>Sohan</td>\n",
       "      <td>Shyam</td>\n",
       "      <td>Sohan</td>\n",
       "    </tr>\n",
       "    <tr>\n",
       "      <th>2</th>\n",
       "      <td>Rohit</td>\n",
       "      <td>Mohan</td>\n",
       "      <td>Rohit</td>\n",
       "    </tr>\n",
       "    <tr>\n",
       "      <th>3</th>\n",
       "      <td>NaN</td>\n",
       "      <td>NaN</td>\n",
       "      <td>NaN</td>\n",
       "    </tr>\n",
       "  </tbody>\n",
       "</table>\n",
       "</div>"
      ],
      "text/plain": [
       "       A      B      C\n",
       "1  Sohan  Shyam  Sohan\n",
       "2  Rohit  Mohan  Rohit\n",
       "3    NaN    NaN    NaN"
      ]
     },
     "execution_count": 18,
     "metadata": {},
     "output_type": "execute_result"
    }
   ],
   "source": [
    "df.reindex(new_index)"
   ]
  },
  {
   "cell_type": "code",
   "execution_count": 19,
   "id": "ac621469-99f8-4a72-8f61-37fd53415f48",
   "metadata": {},
   "outputs": [],
   "source": [
    "#Q3. df=[10,20,30,40,50] print sum of first three value which is 60"
   ]
  },
  {
   "cell_type": "code",
   "execution_count": 20,
   "id": "d21fb662-76dc-46e9-810a-e48bd206d9cf",
   "metadata": {},
   "outputs": [],
   "source": [
    "df=[10,20,30,40,50]"
   ]
  },
  {
   "cell_type": "code",
   "execution_count": 21,
   "id": "afad738c-0eb9-4253-840a-ec18e5277a70",
   "metadata": {},
   "outputs": [
    {
     "data": {
      "text/html": [
       "<div>\n",
       "<style scoped>\n",
       "    .dataframe tbody tr th:only-of-type {\n",
       "        vertical-align: middle;\n",
       "    }\n",
       "\n",
       "    .dataframe tbody tr th {\n",
       "        vertical-align: top;\n",
       "    }\n",
       "\n",
       "    .dataframe thead th {\n",
       "        text-align: right;\n",
       "    }\n",
       "</style>\n",
       "<table border=\"1\" class=\"dataframe\">\n",
       "  <thead>\n",
       "    <tr style=\"text-align: right;\">\n",
       "      <th></th>\n",
       "      <th>0</th>\n",
       "    </tr>\n",
       "  </thead>\n",
       "  <tbody>\n",
       "    <tr>\n",
       "      <th>0</th>\n",
       "      <td>10</td>\n",
       "    </tr>\n",
       "    <tr>\n",
       "      <th>1</th>\n",
       "      <td>20</td>\n",
       "    </tr>\n",
       "    <tr>\n",
       "      <th>2</th>\n",
       "      <td>30</td>\n",
       "    </tr>\n",
       "    <tr>\n",
       "      <th>3</th>\n",
       "      <td>40</td>\n",
       "    </tr>\n",
       "    <tr>\n",
       "      <th>4</th>\n",
       "      <td>50</td>\n",
       "    </tr>\n",
       "  </tbody>\n",
       "</table>\n",
       "</div>"
      ],
      "text/plain": [
       "    0\n",
       "0  10\n",
       "1  20\n",
       "2  30\n",
       "3  40\n",
       "4  50"
      ]
     },
     "execution_count": 21,
     "metadata": {},
     "output_type": "execute_result"
    }
   ],
   "source": [
    "pd.DataFrame([10,20,30,40,50])"
   ]
  },
  {
   "cell_type": "code",
   "execution_count": 28,
   "id": "1a53b578-931a-42a6-a824-b0a2a56a7a7d",
   "metadata": {},
   "outputs": [
    {
     "data": {
      "text/plain": [
       "[10, 20, 30, 40, 50]"
      ]
     },
     "execution_count": 28,
     "metadata": {},
     "output_type": "execute_result"
    }
   ],
   "source": [
    "df"
   ]
  },
  {
   "cell_type": "code",
   "execution_count": 29,
   "id": "e122bbe9-6203-496d-b0ae-503c482db641",
   "metadata": {},
   "outputs": [],
   "source": [
    "sum=sum(df)"
   ]
  },
  {
   "cell_type": "code",
   "execution_count": 30,
   "id": "bafcbc2e-58f6-4f71-8a12-2808da7767c4",
   "metadata": {},
   "outputs": [
    {
     "data": {
      "text/plain": [
       "150"
      ]
     },
     "execution_count": 30,
     "metadata": {},
     "output_type": "execute_result"
    }
   ],
   "source": [
    "sum"
   ]
  },
  {
   "cell_type": "code",
   "execution_count": 34,
   "id": "b4f9e8a0-8fe9-43bb-9407-93672c9059e0",
   "metadata": {},
   "outputs": [],
   "source": [
    "df1=df[0:3]"
   ]
  },
  {
   "cell_type": "code",
   "execution_count": 36,
   "id": "d3e66328-0239-45b3-8008-34de5adbfa31",
   "metadata": {},
   "outputs": [
    {
     "data": {
      "text/plain": [
       "[10, 20, 30]"
      ]
     },
     "execution_count": 36,
     "metadata": {},
     "output_type": "execute_result"
    }
   ],
   "source": [
    "df1"
   ]
  },
  {
   "cell_type": "code",
   "execution_count": 39,
   "id": "01bb4b49-c2b5-464a-9988-120e3fc07ece",
   "metadata": {},
   "outputs": [],
   "source": [
    "# Q5. How are DataFrame.size() and DataFrame.shape() diffrent?"
   ]
  },
  {
   "cell_type": "code",
   "execution_count": 40,
   "id": "9ed9953a-c05c-4bd3-9d34-e2c5d3a77020",
   "metadata": {},
   "outputs": [],
   "source": [
    "#DataFrame.size()- the size property is used to get an int representing the number\n",
    "#of element in this object and Return the number of rows if Series. Otherwise ,Return\n",
    "#the number of rows times the number of columns if DataFrame.\n",
    "\n",
    "#DataFrame.shape -the shape properties is used to get a tuple representing the dimensionality\n",
    "#of the Pandas DataFrame."
   ]
  },
  {
   "cell_type": "code",
   "execution_count": 42,
   "id": "8010f7ea-4acf-4f3f-be0b-9ec9b354393b",
   "metadata": {},
   "outputs": [],
   "source": [
    "#Q6 Which Fun of Pandas do we use to read an excel file?\n",
    "\n",
    "# Ans is read_Excel()"
   ]
  },
  {
   "cell_type": "code",
   "execution_count": 43,
   "id": "140091eb-f6ca-4dcb-b426-4a66ca6647af",
   "metadata": {},
   "outputs": [],
   "source": [
    "#Q8. df=[['A':3,8,6,2,9] ,['B':5,2,9,3,1] ,['C' : 1,7,4,5,2]]\n",
    "#select all rows where the value in column A >5 and value is column B <10\n"
   ]
  },
  {
   "cell_type": "code",
   "execution_count": 46,
   "id": "e07076d1-ceba-4147-b2f2-9d6b03682eaf",
   "metadata": {},
   "outputs": [],
   "source": [
    "df={'A':[3,8,6,2,9] ,'B':[5,2,9,3,1] ,'C' : [1,7,4,5,2]}"
   ]
  },
  {
   "cell_type": "code",
   "execution_count": 47,
   "id": "632be517-197f-4db4-b9c0-8ea486f26280",
   "metadata": {},
   "outputs": [
    {
     "data": {
      "text/html": [
       "<div>\n",
       "<style scoped>\n",
       "    .dataframe tbody tr th:only-of-type {\n",
       "        vertical-align: middle;\n",
       "    }\n",
       "\n",
       "    .dataframe tbody tr th {\n",
       "        vertical-align: top;\n",
       "    }\n",
       "\n",
       "    .dataframe thead th {\n",
       "        text-align: right;\n",
       "    }\n",
       "</style>\n",
       "<table border=\"1\" class=\"dataframe\">\n",
       "  <thead>\n",
       "    <tr style=\"text-align: right;\">\n",
       "      <th></th>\n",
       "      <th>A</th>\n",
       "      <th>B</th>\n",
       "      <th>C</th>\n",
       "    </tr>\n",
       "  </thead>\n",
       "  <tbody>\n",
       "    <tr>\n",
       "      <th>0</th>\n",
       "      <td>3</td>\n",
       "      <td>5</td>\n",
       "      <td>1</td>\n",
       "    </tr>\n",
       "    <tr>\n",
       "      <th>1</th>\n",
       "      <td>8</td>\n",
       "      <td>2</td>\n",
       "      <td>7</td>\n",
       "    </tr>\n",
       "    <tr>\n",
       "      <th>2</th>\n",
       "      <td>6</td>\n",
       "      <td>9</td>\n",
       "      <td>4</td>\n",
       "    </tr>\n",
       "    <tr>\n",
       "      <th>3</th>\n",
       "      <td>2</td>\n",
       "      <td>3</td>\n",
       "      <td>5</td>\n",
       "    </tr>\n",
       "    <tr>\n",
       "      <th>4</th>\n",
       "      <td>9</td>\n",
       "      <td>1</td>\n",
       "      <td>2</td>\n",
       "    </tr>\n",
       "  </tbody>\n",
       "</table>\n",
       "</div>"
      ],
      "text/plain": [
       "   A  B  C\n",
       "0  3  5  1\n",
       "1  8  2  7\n",
       "2  6  9  4\n",
       "3  2  3  5\n",
       "4  9  1  2"
      ]
     },
     "execution_count": 47,
     "metadata": {},
     "output_type": "execute_result"
    }
   ],
   "source": [
    "pd.DataFrame(df)"
   ]
  },
  {
   "cell_type": "code",
   "execution_count": null,
   "id": "db11a6ca-5321-4793-8563-f7df00d16fc5",
   "metadata": {},
   "outputs": [],
   "source": [
    "df['A'>5"
   ]
  }
 ],
 "metadata": {
  "kernelspec": {
   "display_name": "Python 3 (ipykernel)",
   "language": "python",
   "name": "python3"
  },
  "language_info": {
   "codemirror_mode": {
    "name": "ipython",
    "version": 3
   },
   "file_extension": ".py",
   "mimetype": "text/x-python",
   "name": "python",
   "nbconvert_exporter": "python",
   "pygments_lexer": "ipython3",
   "version": "3.10.8"
  }
 },
 "nbformat": 4,
 "nbformat_minor": 5
}
